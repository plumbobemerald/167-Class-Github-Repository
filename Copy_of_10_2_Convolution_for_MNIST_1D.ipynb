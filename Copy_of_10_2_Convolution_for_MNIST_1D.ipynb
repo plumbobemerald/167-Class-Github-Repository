{
  "nbformat": 4,
  "nbformat_minor": 0,
  "metadata": {
    "colab": {
      "provenance": [],
      "include_colab_link": true
    },
    "kernelspec": {
      "name": "python3",
      "display_name": "Python 3"
    },
    "language_info": {
      "name": "python"
    }
  },
  "cells": [
    {
      "cell_type": "markdown",
      "metadata": {
        "id": "view-in-github",
        "colab_type": "text"
      },
      "source": [
        "<a href=\"https://colab.research.google.com/github/plumbobemerald/167-Class-Github-Repository/blob/main/Copy_of_10_2_Convolution_for_MNIST_1D.ipynb\" target=\"_parent\"><img src=\"https://colab.research.google.com/assets/colab-badge.svg\" alt=\"Open In Colab\"/></a>"
      ]
    },
    {
      "cell_type": "markdown",
      "source": [
        "# **Notebook 10.2: Convolution for MNIST-1D**\n",
        "\n",
        "This notebook investigates a 1D convolutional network for MNIST-1D as in figure 10.7 and 10.8a.\n",
        "\n",
        "Work through the cells below, running each cell in turn. In various places you will see the words \"TODO\". Follow the instructions at these places and make predictions about what is going to happen or write code to complete the functions.\n",
        "\n",
        "Contact me at udlbookmail@gmail.com if you find any mistakes or have any suggestions.\n",
        "\n"
      ],
      "metadata": {
        "id": "t9vk9Elugvmi"
      }
    },
    {
      "cell_type": "code",
      "source": [
        "# Run this if you're in a Colab to install MNIST 1D repository\n",
        "!pip install git+https://github.com/greydanus/mnist1d"
      ],
      "metadata": {
        "id": "D5yLObtZCi9J",
        "colab": {
          "base_uri": "https://localhost:8080/"
        },
        "outputId": "0066f3ca-fcd6-4915-f774-cc3c9c5c5a7a"
      },
      "execution_count": 1,
      "outputs": [
        {
          "output_type": "stream",
          "name": "stdout",
          "text": [
            "Collecting git+https://github.com/greydanus/mnist1d\n",
            "  Cloning https://github.com/greydanus/mnist1d to /tmp/pip-req-build-omtvfyd5\n",
            "  Running command git clone --filter=blob:none --quiet https://github.com/greydanus/mnist1d /tmp/pip-req-build-omtvfyd5\n",
            "  Resolved https://github.com/greydanus/mnist1d to commit 7878d96082abd200c546a07a4101fa90b30fdf7e\n",
            "  Installing build dependencies ... \u001b[?25l\u001b[?25hdone\n",
            "  Getting requirements to build wheel ... \u001b[?25l\u001b[?25hdone\n",
            "  Preparing metadata (pyproject.toml) ... \u001b[?25l\u001b[?25hdone\n",
            "Requirement already satisfied: requests in /usr/local/lib/python3.12/dist-packages (from mnist1d==0.0.2.post16) (2.32.4)\n",
            "Requirement already satisfied: numpy in /usr/local/lib/python3.12/dist-packages (from mnist1d==0.0.2.post16) (2.0.2)\n",
            "Requirement already satisfied: matplotlib in /usr/local/lib/python3.12/dist-packages (from mnist1d==0.0.2.post16) (3.10.0)\n",
            "Requirement already satisfied: scipy in /usr/local/lib/python3.12/dist-packages (from mnist1d==0.0.2.post16) (1.16.3)\n",
            "Requirement already satisfied: contourpy>=1.0.1 in /usr/local/lib/python3.12/dist-packages (from matplotlib->mnist1d==0.0.2.post16) (1.3.3)\n",
            "Requirement already satisfied: cycler>=0.10 in /usr/local/lib/python3.12/dist-packages (from matplotlib->mnist1d==0.0.2.post16) (0.12.1)\n",
            "Requirement already satisfied: fonttools>=4.22.0 in /usr/local/lib/python3.12/dist-packages (from matplotlib->mnist1d==0.0.2.post16) (4.60.1)\n",
            "Requirement already satisfied: kiwisolver>=1.3.1 in /usr/local/lib/python3.12/dist-packages (from matplotlib->mnist1d==0.0.2.post16) (1.4.9)\n",
            "Requirement already satisfied: packaging>=20.0 in /usr/local/lib/python3.12/dist-packages (from matplotlib->mnist1d==0.0.2.post16) (25.0)\n",
            "Requirement already satisfied: pillow>=8 in /usr/local/lib/python3.12/dist-packages (from matplotlib->mnist1d==0.0.2.post16) (11.3.0)\n",
            "Requirement already satisfied: pyparsing>=2.3.1 in /usr/local/lib/python3.12/dist-packages (from matplotlib->mnist1d==0.0.2.post16) (3.2.5)\n",
            "Requirement already satisfied: python-dateutil>=2.7 in /usr/local/lib/python3.12/dist-packages (from matplotlib->mnist1d==0.0.2.post16) (2.9.0.post0)\n",
            "Requirement already satisfied: charset_normalizer<4,>=2 in /usr/local/lib/python3.12/dist-packages (from requests->mnist1d==0.0.2.post16) (3.4.4)\n",
            "Requirement already satisfied: idna<4,>=2.5 in /usr/local/lib/python3.12/dist-packages (from requests->mnist1d==0.0.2.post16) (3.11)\n",
            "Requirement already satisfied: urllib3<3,>=1.21.1 in /usr/local/lib/python3.12/dist-packages (from requests->mnist1d==0.0.2.post16) (2.5.0)\n",
            "Requirement already satisfied: certifi>=2017.4.17 in /usr/local/lib/python3.12/dist-packages (from requests->mnist1d==0.0.2.post16) (2025.10.5)\n",
            "Requirement already satisfied: six>=1.5 in /usr/local/lib/python3.12/dist-packages (from python-dateutil>=2.7->matplotlib->mnist1d==0.0.2.post16) (1.17.0)\n",
            "Building wheels for collected packages: mnist1d\n",
            "  Building wheel for mnist1d (pyproject.toml) ... \u001b[?25l\u001b[?25hdone\n",
            "  Created wheel for mnist1d: filename=mnist1d-0.0.2.post16-py3-none-any.whl size=14665 sha256=70adb0f38ef723b68348597001660eae1dddabdc028172ba46493dada3d44d5f\n",
            "  Stored in directory: /tmp/pip-ephem-wheel-cache-2i4tenrj/wheels/18/40/b6/29381fee9b4c80fdbc304d52bb065a7286bbcca5ca2b8737c0\n",
            "Successfully built mnist1d\n",
            "Installing collected packages: mnist1d\n",
            "Successfully installed mnist1d-0.0.2.post16\n"
          ]
        }
      ]
    },
    {
      "cell_type": "code",
      "source": [
        "import numpy as np\n",
        "import os\n",
        "import torch, torch.nn as nn\n",
        "from torch.utils.data import TensorDataset, DataLoader\n",
        "from torch.optim.lr_scheduler import StepLR\n",
        "import matplotlib.pyplot as plt\n",
        "import mnist1d\n",
        "import random"
      ],
      "metadata": {
        "id": "YrXWAH7sUWvU"
      },
      "execution_count": 2,
      "outputs": []
    },
    {
      "cell_type": "code",
      "source": [
        "args = mnist1d.data.get_dataset_args()\n",
        "data = mnist1d.data.get_dataset(args, path='./mnist1d_data.pkl', download=False, regenerate=False)\n",
        "\n",
        "# The training and test input and outputs are in\n",
        "# data['x'], data['y'], data['x_test'], and data['y_test']\n",
        "print(\"Examples in training set: {}\".format(len(data['y'])))\n",
        "print(\"Examples in test set: {}\".format(len(data['y_test'])))\n",
        "print(\"Length of each example: {}\".format(data['x'].shape[-1]))"
      ],
      "metadata": {
        "id": "twI72ZCrCt5z",
        "colab": {
          "base_uri": "https://localhost:8080/"
        },
        "outputId": "18173fca-bd0b-45cc-eebe-4f83d613ba94"
      },
      "execution_count": 3,
      "outputs": [
        {
          "output_type": "stream",
          "name": "stdout",
          "text": [
            "Did or could not load data from ./mnist1d_data.pkl. Rebuilding dataset...\n",
            "Examples in training set: 4000\n",
            "Examples in test set: 1000\n",
            "Length of each example: 40\n"
          ]
        }
      ]
    },
    {
      "cell_type": "code",
      "source": [
        "# Load in the data\n",
        "train_data_x = data['x'].transpose()\n",
        "train_data_y = data['y']\n",
        "val_data_x = data['x_test'].transpose()\n",
        "val_data_y = data['y_test']\n",
        "# Print out sizes\n",
        "print(\"Train data: %d examples (columns), each of which has %d dimensions (rows)\"%((train_data_x.shape[1],train_data_x.shape[0])))\n",
        "print(\"Validation data: %d examples (columns), each of which has %d dimensions (rows)\"%((val_data_x.shape[1],val_data_x.shape[0])))"
      ],
      "metadata": {
        "id": "8bKADvLHbiV5",
        "colab": {
          "base_uri": "https://localhost:8080/"
        },
        "outputId": "5067341e-038d-4282-985b-d5acc20c9db7"
      },
      "execution_count": 4,
      "outputs": [
        {
          "output_type": "stream",
          "name": "stdout",
          "text": [
            "Train data: 4000 examples (columns), each of which has 40 dimensions (rows)\n",
            "Validation data: 1000 examples (columns), each of which has 40 dimensions (rows)\n"
          ]
        }
      ]
    },
    {
      "cell_type": "markdown",
      "source": [
        "Define the network"
      ],
      "metadata": {
        "id": "_sFvRDGrl4qe"
      }
    },
    {
      "cell_type": "code",
      "source": [
        "# There are 40 input dimensions and 10 output dimensions for this data\n",
        "# The inputs correspond to the 40 offsets in the MNIST1D template.\n",
        "D_i = 40\n",
        "# The outputs correspond to the 10 digits\n",
        "D_o = 10\n",
        "\n",
        "\n",
        "# TODO Create a model with the following layers\n",
        "# 1. Convolutional layer, (input=length 40 and 1 channel, kernel size 3, stride 2, padding=\"valid\", 15 output channels )\n",
        "# 2. ReLU\n",
        "# 3. Convolutional layer, (input=length 19 and 15 channels, kernel size 3, stride 2, padding=\"valid\", 15 output channels )\n",
        "# 4. ReLU\n",
        "# 5. Convolutional layer, (input=length 9 and 15 channels, kernel size 3, stride 2, padding=\"valid\", 15 output channels)\n",
        "# 6. ReLU\n",
        "# 7. Flatten (converts 4x15) to length 60\n",
        "# 8. Linear layer (input size = 60, output size = 10)\n",
        "# References:\n",
        "# https://pytorch.org/docs/1.13/generated/torch.nn.Conv1d.html?highlight=conv1d#torch.nn.Conv1d\n",
        "# https://pytorch.org/docs/stable/generated/torch.nn.Flatten.html\n",
        "# https://pytorch.org/docs/1.13/generated/torch.nn.Linear.html?highlight=linear#torch.nn.Linear\n",
        "\n",
        "# NOTE THAT THE CONVOLUTIONAL LAYERS NEED TO TAKE THE NUMBER OF INPUT CHANNELS AS A PARAMETER\n",
        "# AND NOT THE INPUT SIZE.\n",
        "\n",
        "# Replace the following function:\n",
        "model = nn.Sequential(\n",
        "    nn.Conv1d(in_channels=1, out_channels=15, kernel_size=3, stride=2, padding=0),\n",
        "    nn.ReLU(),\n",
        "    nn.Conv1d(in_channels=15, out_channels=15, kernel_size=3, stride=2, padding=0),\n",
        "    nn.ReLU(),\n",
        "    nn.Conv1d(in_channels=15, out_channels=15, kernel_size=3, stride=2, padding=0),\n",
        "    nn.ReLU(),\n",
        "    nn.Flatten(),                 # turns (batch, 15, 4) → (batch, 60)\n",
        "    nn.Linear(60, 10)\n",
        ")\n",
        "\n",
        "\n"
      ],
      "metadata": {
        "id": "FslroPJJffrh"
      },
      "execution_count": 5,
      "outputs": []
    },
    {
      "cell_type": "code",
      "source": [
        "# He initialization of weights\n",
        "def weights_init(layer_in):\n",
        "  if isinstance(layer_in, nn.Linear):\n",
        "    nn.init.kaiming_uniform_(layer_in.weight)\n",
        "    layer_in.bias.data.fill_(0.0)"
      ],
      "metadata": {
        "id": "YgLaex1pfhqz"
      },
      "execution_count": 6,
      "outputs": []
    },
    {
      "cell_type": "code",
      "source": [
        "# choose cross entropy loss function (equation 5.24 in the loss notes)\n",
        "loss_function = nn.CrossEntropyLoss()\n",
        "# construct SGD optimizer and initialize learning rate and momentum\n",
        "optimizer = torch.optim.SGD(model.parameters(), lr = 0.05, momentum=0.9)\n",
        "# object that decreases learning rate by half every 20 epochs\n",
        "scheduler = StepLR(optimizer, step_size=20, gamma=0.5)\n",
        "# create 100 dummy data points and store in data loader class\n",
        "x_train = torch.tensor(train_data_x.transpose().astype('float32'))\n",
        "y_train = torch.tensor(train_data_y.astype('long')).long()\n",
        "x_val= torch.tensor(val_data_x.transpose().astype('float32'))\n",
        "y_val = torch.tensor(val_data_y.astype('long')).long()\n",
        "\n",
        "# load the data into a class that creates the batches\n",
        "data_loader = DataLoader(TensorDataset(x_train,y_train), batch_size=100, shuffle=True, worker_init_fn=np.random.seed(1))\n",
        "\n",
        "# Initialize model weights\n",
        "model.apply(weights_init)\n",
        "\n",
        "# loop over the dataset n_epoch times\n",
        "n_epoch = 100\n",
        "# store the loss and the % correct at each epoch\n",
        "losses_train = np.zeros((n_epoch))\n",
        "errors_train = np.zeros((n_epoch))\n",
        "losses_val = np.zeros((n_epoch))\n",
        "errors_val = np.zeros((n_epoch))\n",
        "\n",
        "for epoch in range(n_epoch):\n",
        "  # loop over batches\n",
        "  for i, data in enumerate(data_loader):\n",
        "    # retrieve inputs and labels for this batch\n",
        "    x_batch, y_batch = data\n",
        "    # zero the parameter gradients\n",
        "    optimizer.zero_grad()\n",
        "    # forward pass -- calculate model output\n",
        "    pred = model(x_batch[:,None,:])\n",
        "    # compute the loss\n",
        "    loss = loss_function(pred, y_batch)\n",
        "    # backward pass\n",
        "    loss.backward()\n",
        "    # SGD update\n",
        "    optimizer.step()\n",
        "\n",
        "  # Run whole dataset to get statistics -- normally wouldn't do this\n",
        "  pred_train = model(x_train[:,None,:])\n",
        "  pred_val = model(x_val[:,None,:])\n",
        "  _, predicted_train_class = torch.max(pred_train.data, 1)\n",
        "  _, predicted_val_class = torch.max(pred_val.data, 1)\n",
        "  errors_train[epoch] = 100 - 100 * (predicted_train_class == y_train).float().sum() / len(y_train)\n",
        "  errors_val[epoch]= 100 - 100 * (predicted_val_class == y_val).float().sum() / len(y_val)\n",
        "  losses_train[epoch] = loss_function(pred_train, y_train).item()\n",
        "  losses_val[epoch]= loss_function(pred_val, y_val).item()\n",
        "  print(f'Epoch {epoch:5d}, train loss {losses_train[epoch]:.6f}, train error {errors_train[epoch]:3.2f},  val loss {losses_val[epoch]:.6f}, percent error {errors_val[epoch]:3.2f}')\n",
        "\n",
        "  # tell scheduler to consider updating learning rate\n",
        "  scheduler.step()\n",
        "\n",
        "# Plot the results\n",
        "fig, ax = plt.subplots()\n",
        "ax.plot(errors_train,'r-',label='train')\n",
        "ax.plot(errors_val,'b-',label='validation')\n",
        "ax.set_ylim(0,100); ax.set_xlim(0,n_epoch)\n",
        "ax.set_xlabel('Epoch'); ax.set_ylabel('Error')\n",
        "ax.set_title('Part I: Validation Result %3.2f'%(errors_val[-1]))\n",
        "ax.legend()\n",
        "plt.show()"
      ],
      "metadata": {
        "id": "NYw8I_3mmX5c",
        "colab": {
          "base_uri": "https://localhost:8080/",
          "height": 1000
        },
        "outputId": "15790a83-22fb-4386-d27d-6ce843c09000"
      },
      "execution_count": 7,
      "outputs": [
        {
          "output_type": "stream",
          "name": "stdout",
          "text": [
            "Epoch     0, train loss 2.179234, train error 82.20,  val loss 2.188923, percent error 83.50\n",
            "Epoch     1, train loss 1.669102, train error 66.12,  val loss 1.680918, percent error 68.40\n",
            "Epoch     2, train loss 1.423091, train error 59.00,  val loss 1.444683, percent error 61.30\n",
            "Epoch     3, train loss 1.290970, train error 53.60,  val loss 1.310892, percent error 57.00\n",
            "Epoch     4, train loss 1.298157, train error 55.25,  val loss 1.320009, percent error 55.70\n",
            "Epoch     5, train loss 1.265065, train error 52.28,  val loss 1.276161, percent error 51.90\n",
            "Epoch     6, train loss 1.124674, train error 46.38,  val loss 1.149657, percent error 48.10\n",
            "Epoch     7, train loss 0.998302, train error 39.40,  val loss 1.003017, percent error 42.30\n",
            "Epoch     8, train loss 0.907101, train error 35.45,  val loss 0.923807, percent error 36.60\n",
            "Epoch     9, train loss 0.899968, train error 36.55,  val loss 0.924659, percent error 36.40\n",
            "Epoch    10, train loss 0.741756, train error 28.12,  val loss 0.777550, percent error 31.60\n",
            "Epoch    11, train loss 0.648100, train error 25.30,  val loss 0.685956, percent error 28.00\n",
            "Epoch    12, train loss 0.566648, train error 20.50,  val loss 0.614220, percent error 23.00\n",
            "Epoch    13, train loss 0.510683, train error 17.90,  val loss 0.552909, percent error 19.50\n",
            "Epoch    14, train loss 0.456925, train error 16.65,  val loss 0.544946, percent error 20.80\n",
            "Epoch    15, train loss 0.417322, train error 15.25,  val loss 0.512817, percent error 19.30\n",
            "Epoch    16, train loss 0.394132, train error 13.95,  val loss 0.491244, percent error 17.10\n",
            "Epoch    17, train loss 0.346419, train error 12.82,  val loss 0.471274, percent error 16.40\n",
            "Epoch    18, train loss 0.282604, train error 9.68,  val loss 0.392997, percent error 14.00\n",
            "Epoch    19, train loss 0.263123, train error 8.85,  val loss 0.382681, percent error 12.60\n",
            "Epoch    20, train loss 0.198364, train error 6.38,  val loss 0.337511, percent error 11.20\n",
            "Epoch    21, train loss 0.187274, train error 6.00,  val loss 0.317860, percent error 11.10\n",
            "Epoch    22, train loss 0.198421, train error 6.78,  val loss 0.339705, percent error 11.30\n",
            "Epoch    23, train loss 0.207253, train error 7.30,  val loss 0.377981, percent error 12.30\n",
            "Epoch    24, train loss 0.186387, train error 5.65,  val loss 0.329702, percent error 10.50\n",
            "Epoch    25, train loss 0.171157, train error 5.53,  val loss 0.334147, percent error 10.40\n",
            "Epoch    26, train loss 0.166083, train error 5.40,  val loss 0.337147, percent error 10.10\n",
            "Epoch    27, train loss 0.165604, train error 5.35,  val loss 0.345468, percent error 10.80\n",
            "Epoch    28, train loss 0.153062, train error 4.90,  val loss 0.304935, percent error 10.00\n",
            "Epoch    29, train loss 0.152782, train error 5.15,  val loss 0.335926, percent error 10.70\n",
            "Epoch    30, train loss 0.146411, train error 5.03,  val loss 0.318020, percent error 10.80\n",
            "Epoch    31, train loss 0.130011, train error 3.97,  val loss 0.305360, percent error 10.40\n",
            "Epoch    32, train loss 0.120817, train error 3.75,  val loss 0.308457, percent error 10.20\n",
            "Epoch    33, train loss 0.120753, train error 3.95,  val loss 0.316529, percent error 9.20\n",
            "Epoch    34, train loss 0.127962, train error 4.15,  val loss 0.309842, percent error 9.60\n",
            "Epoch    35, train loss 0.135377, train error 4.95,  val loss 0.336009, percent error 9.60\n",
            "Epoch    36, train loss 0.114684, train error 3.60,  val loss 0.284964, percent error 9.10\n",
            "Epoch    37, train loss 0.114965, train error 3.80,  val loss 0.302215, percent error 9.60\n",
            "Epoch    38, train loss 0.113893, train error 3.53,  val loss 0.311597, percent error 9.90\n",
            "Epoch    39, train loss 0.108296, train error 3.55,  val loss 0.318185, percent error 9.80\n",
            "Epoch    40, train loss 0.094427, train error 3.00,  val loss 0.308163, percent error 9.50\n",
            "Epoch    41, train loss 0.084907, train error 2.50,  val loss 0.301187, percent error 9.00\n",
            "Epoch    42, train loss 0.084075, train error 2.60,  val loss 0.292294, percent error 8.80\n",
            "Epoch    43, train loss 0.081981, train error 2.45,  val loss 0.299923, percent error 9.10\n",
            "Epoch    44, train loss 0.080605, train error 2.45,  val loss 0.298476, percent error 9.00\n",
            "Epoch    45, train loss 0.078595, train error 2.35,  val loss 0.302693, percent error 8.90\n",
            "Epoch    46, train loss 0.081292, train error 2.40,  val loss 0.305939, percent error 9.20\n",
            "Epoch    47, train loss 0.077726, train error 2.43,  val loss 0.316987, percent error 9.20\n",
            "Epoch    48, train loss 0.080841, train error 2.53,  val loss 0.317362, percent error 9.00\n",
            "Epoch    49, train loss 0.077810, train error 2.28,  val loss 0.328949, percent error 9.40\n",
            "Epoch    50, train loss 0.077716, train error 2.43,  val loss 0.319472, percent error 8.80\n",
            "Epoch    51, train loss 0.074497, train error 2.35,  val loss 0.319988, percent error 9.00\n",
            "Epoch    52, train loss 0.075079, train error 2.22,  val loss 0.339722, percent error 8.90\n",
            "Epoch    53, train loss 0.069073, train error 2.03,  val loss 0.318968, percent error 9.10\n",
            "Epoch    54, train loss 0.070157, train error 1.95,  val loss 0.310781, percent error 8.70\n",
            "Epoch    55, train loss 0.071878, train error 2.05,  val loss 0.332076, percent error 8.70\n",
            "Epoch    56, train loss 0.068199, train error 1.90,  val loss 0.311484, percent error 9.30\n",
            "Epoch    57, train loss 0.064701, train error 1.72,  val loss 0.330885, percent error 9.50\n",
            "Epoch    58, train loss 0.064903, train error 1.80,  val loss 0.312428, percent error 9.20\n",
            "Epoch    59, train loss 0.067846, train error 1.88,  val loss 0.321858, percent error 8.90\n",
            "Epoch    60, train loss 0.060824, train error 1.72,  val loss 0.321612, percent error 9.20\n",
            "Epoch    61, train loss 0.058600, train error 1.65,  val loss 0.330046, percent error 8.60\n",
            "Epoch    62, train loss 0.058348, train error 1.62,  val loss 0.327465, percent error 8.90\n",
            "Epoch    63, train loss 0.059216, train error 1.65,  val loss 0.328191, percent error 8.70\n",
            "Epoch    64, train loss 0.056889, train error 1.60,  val loss 0.332486, percent error 8.80\n",
            "Epoch    65, train loss 0.057794, train error 1.60,  val loss 0.332038, percent error 9.10\n",
            "Epoch    66, train loss 0.055148, train error 1.38,  val loss 0.334364, percent error 9.00\n",
            "Epoch    67, train loss 0.056619, train error 1.57,  val loss 0.329086, percent error 9.30\n",
            "Epoch    68, train loss 0.053949, train error 1.38,  val loss 0.323698, percent error 9.30\n",
            "Epoch    69, train loss 0.053674, train error 1.45,  val loss 0.331887, percent error 8.80\n",
            "Epoch    70, train loss 0.054254, train error 1.45,  val loss 0.342840, percent error 8.90\n",
            "Epoch    71, train loss 0.055798, train error 1.43,  val loss 0.344246, percent error 9.20\n",
            "Epoch    72, train loss 0.051522, train error 1.20,  val loss 0.332101, percent error 9.00\n",
            "Epoch    73, train loss 0.052359, train error 1.32,  val loss 0.335729, percent error 9.30\n",
            "Epoch    74, train loss 0.051683, train error 1.15,  val loss 0.338278, percent error 9.30\n",
            "Epoch    75, train loss 0.052081, train error 1.32,  val loss 0.333949, percent error 9.10\n",
            "Epoch    76, train loss 0.054798, train error 1.57,  val loss 0.347490, percent error 8.90\n",
            "Epoch    77, train loss 0.050271, train error 1.18,  val loss 0.342327, percent error 9.20\n",
            "Epoch    78, train loss 0.049781, train error 1.20,  val loss 0.340714, percent error 9.10\n",
            "Epoch    79, train loss 0.049862, train error 1.22,  val loss 0.345764, percent error 8.90\n",
            "Epoch    80, train loss 0.048832, train error 1.12,  val loss 0.342355, percent error 9.00\n",
            "Epoch    81, train loss 0.047886, train error 1.12,  val loss 0.345528, percent error 9.00\n",
            "Epoch    82, train loss 0.047272, train error 1.15,  val loss 0.342758, percent error 9.10\n",
            "Epoch    83, train loss 0.047167, train error 1.03,  val loss 0.345229, percent error 9.10\n",
            "Epoch    84, train loss 0.046963, train error 1.07,  val loss 0.343966, percent error 9.10\n",
            "Epoch    85, train loss 0.046556, train error 1.05,  val loss 0.343291, percent error 9.20\n",
            "Epoch    86, train loss 0.046612, train error 1.05,  val loss 0.346063, percent error 9.30\n",
            "Epoch    87, train loss 0.046201, train error 1.03,  val loss 0.345562, percent error 9.40\n",
            "Epoch    88, train loss 0.046369, train error 1.05,  val loss 0.343237, percent error 9.40\n",
            "Epoch    89, train loss 0.047248, train error 1.10,  val loss 0.354817, percent error 8.80\n",
            "Epoch    90, train loss 0.045660, train error 0.97,  val loss 0.349267, percent error 9.20\n",
            "Epoch    91, train loss 0.045738, train error 1.10,  val loss 0.345442, percent error 9.20\n",
            "Epoch    92, train loss 0.045361, train error 1.00,  val loss 0.354327, percent error 9.10\n",
            "Epoch    93, train loss 0.044955, train error 1.05,  val loss 0.349075, percent error 9.20\n",
            "Epoch    94, train loss 0.044722, train error 0.95,  val loss 0.352576, percent error 9.30\n",
            "Epoch    95, train loss 0.044747, train error 1.03,  val loss 0.351054, percent error 9.20\n",
            "Epoch    96, train loss 0.044747, train error 1.05,  val loss 0.348346, percent error 9.30\n",
            "Epoch    97, train loss 0.044200, train error 0.95,  val loss 0.350778, percent error 9.40\n",
            "Epoch    98, train loss 0.043919, train error 1.00,  val loss 0.354090, percent error 9.40\n",
            "Epoch    99, train loss 0.044028, train error 0.97,  val loss 0.354362, percent error 9.60\n"
          ]
        },
        {
          "output_type": "display_data",
          "data": {
            "text/plain": [
              "<Figure size 640x480 with 1 Axes>"
            ],
            "image/png": "[encoded data removed]"
          },
          "metadata": {}
        }
      ]
    }
  ]
}